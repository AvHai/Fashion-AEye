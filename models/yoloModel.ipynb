import os
import cv2
import pandas as pd
from PIL import Image
from transformers import pipeline, AutoImageProcessor, AutoModelForObjectDetection


pipe = pipeline(object-detection, model=valentinafeveyolos-fashionpedia)

frames_root = contentdriveMyDriveflickd_aiframes
output_dir = contentdriveMyDriveflickd_aidetections_fashionpedia
os.makedirs(output_dir, exist_ok=True)

detections = []


for video_folder in os.listdir(frames_root)
    video_path = os.path.join(frames_root, video_folder)
    if not os.path.isdir(video_path)
        continue

    for frame_file in sorted(os.listdir(video_path))
        if not frame_file.endswith(.jpg)
            continue

        frame_path = os.path.join(video_path, frame_file)
        pil_img = Image.open(frame_path).convert(RGB)

        try
            results = pipe(pil_img)

            for i, obj in enumerate(results)
                label = obj[label]
                score = obj[score]
                box = obj[box]
                x1, y1, x2, y2 = int(box[xmin]), int(box[ymin]), int(box[xmax]), int(box[ymax])


                detections.append({
                    video_id video_folder,
                    frame_file frame_file,
                    class label,
                    confidence score,
                    bbox [x1, y1, x2, y2]
                })


                save_dir = os.path.join(output_dir, video_folder)
                os.makedirs(save_dir, exist_ok=True)

                crop = pil_img.crop((x1, y1, x2, y2))
                crop_filename = f{os.path.splitext(frame_file)[0]}_{label}_{i}.jpg
                crop.save(os.path.join(save_dir, crop_filename))

        except Exception as e
            print(fError processing {frame_path} {e})
